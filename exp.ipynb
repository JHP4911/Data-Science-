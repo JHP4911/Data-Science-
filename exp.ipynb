{
  "nbformat": 4,
  "nbformat_minor": 0,
  "metadata": {
    "colab": {
      "name": "Untitled3.ipynb",
      "provenance": [],
      "authorship_tag": "ABX9TyNIfGQjc3Gm+OrjKNJlrgDq",
      "include_colab_link": true
    },
    "kernelspec": {
      "name": "python3",
      "display_name": "Python 3"
    }
  },
  "cells": [
    {
      "cell_type": "markdown",
      "metadata": {
        "id": "view-in-github",
        "colab_type": "text"
      },
      "source": [
        "<a href=\"https://colab.research.google.com/github/JHP4911/Data-Science-/blob/master/exp.ipynb\" target=\"_parent\"><img src=\"https://colab.research.google.com/assets/colab-badge.svg\" alt=\"Open In Colab\"/></a>"
      ]
    },
    {
      "cell_type": "code",
      "metadata": {
        "id": "QJuvIojj97BC",
        "outputId": "887776fc-ee89-4535-8172-933705c74e87",
        "colab": {
          "base_uri": "https://localhost:8080/",
          "height": 130
        }
      },
      "source": [
        "class Parent\n",
        "{\n",
        "       int a=100;\n",
        "       public void display()\n",
        "       {\n",
        "              System.out.println(\"Display in parent A: \"+a);\n",
        "       }\n",
        "}\n",
        "\n",
        "class Child extends Parent\n",
        "{\n",
        "       int b=200;\n",
        "\n",
        "       public void display()\n",
        "       {\n",
        "              System.out.println(\"Display in parent B: \"+b);\n",
        "       }\n",
        "}\n",
        "\n",
        "public class Main\n",
        "{\n",
        "       public static void main(String args[])\n",
        "       {\n",
        "              Parent obj = new Child();\n",
        "              obj.display();\n",
        "       }\n",
        "}\n"
      ],
      "execution_count": 1,
      "outputs": [
        {
          "output_type": "error",
          "ename": "SyntaxError",
          "evalue": "ignored",
          "traceback": [
            "\u001b[0;36m  File \u001b[0;32m\"<ipython-input-1-af023ba4eb00>\"\u001b[0;36m, line \u001b[0;32m1\u001b[0m\n\u001b[0;31m    class Parent\u001b[0m\n\u001b[0m                ^\u001b[0m\n\u001b[0;31mSyntaxError\u001b[0m\u001b[0;31m:\u001b[0m invalid syntax\n"
          ]
        }
      ]
    }
  ]
}